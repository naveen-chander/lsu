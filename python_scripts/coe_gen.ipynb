{
 "cells": [
  {
   "cell_type": "code",
   "execution_count": 1,
   "metadata": {},
   "outputs": [],
   "source": [
    "import numpy as np"
   ]
  },
  {
   "cell_type": "code",
   "execution_count": 2,
   "metadata": {},
   "outputs": [],
   "source": [
    "first_line = \"memory_initialization_radix=16;\\n\"\n",
    "second_line = \"memory_initialization_vector=\\n\"\n",
    "\n",
    "file1 = open(\"dmem_bank0.coe\", \"w\")\n",
    "file1.writelines([first_line,second_line])\n",
    "for i in range(512):\n",
    "    if i != 511:\n",
    "        file1.write(format(i,'04x')+format(i,'04x')+',\\n')\n",
    "    else:\n",
    "        file1.write(format(i,'04x')+format(i,'04x')+';\\n')\n",
    "file1.close()\n",
    "\n",
    "file1 = open(\"dmem_bank1.coe\", \"w\")\n",
    "file1.writelines([first_line,second_line])\n",
    "for i in range(512):\n",
    "    if i != 511:\n",
    "        file1.write(format(i*2,'04x')+format(i*2,'04x')+',\\n')\n",
    "    else:\n",
    "        file1.write(format(i*2,'04x')+format(i*2,'04x')+';\\n')\n",
    "file1.close()\n",
    "\n",
    "file1 = open(\"dmem_bank2.coe\", \"w\")\n",
    "file1.writelines([first_line,second_line])\n",
    "for i in range(512):\n",
    "    if i != 511:\n",
    "        file1.write(format(i*3,'04x')+format(i*3,'04x')+',\\n')\n",
    "    else:\n",
    "        file1.write(format(i*3,'04x')+format(i*3,'04x')+';\\n')\n",
    "file1.close()\n",
    "\n",
    "file1 = open(\"dmem_bank3.coe\", \"w\")\n",
    "file1.writelines([first_line,second_line])\n",
    "for i in range(512):\n",
    "    if i != 511:\n",
    "        file1.write(format(i*4,'04x')+format(i*4,'04x')+',\\n')\n",
    "    else:\n",
    "        file1.write(format(i*4,'04x')+format(i*4,'04x')+';\\n')\n",
    "file1.close()"
   ]
  },
  {
   "cell_type": "code",
   "execution_count": null,
   "metadata": {},
   "outputs": [],
   "source": []
  },
  {
   "cell_type": "code",
   "execution_count": null,
   "metadata": {},
   "outputs": [],
   "source": []
  }
 ],
 "metadata": {
  "kernelspec": {
   "display_name": "Python 3",
   "language": "python",
   "name": "python3"
  },
  "language_info": {
   "codemirror_mode": {
    "name": "ipython",
    "version": 3
   },
   "file_extension": ".py",
   "mimetype": "text/x-python",
   "name": "python",
   "nbconvert_exporter": "python",
   "pygments_lexer": "ipython3",
   "version": "3.7.4"
  }
 },
 "nbformat": 4,
 "nbformat_minor": 2
}
